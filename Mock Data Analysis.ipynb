{
    "cells": [
        {
            "cell_type": "markdown",
            "metadata": {},
            "source": "Description\n\nThis notebook is a demo"
        },
        {
            "cell_type": "code",
            "execution_count": 3,
            "metadata": {},
            "outputs": [
                {
                    "data": {
                        "text/html": "<div>\n<style scoped>\n    .dataframe tbody tr th:only-of-type {\n        vertical-align: middle;\n    }\n\n    .dataframe tbody tr th {\n        vertical-align: top;\n    }\n\n    .dataframe thead th {\n        text-align: right;\n    }\n</style>\n<table border=\"1\" class=\"dataframe\">\n  <thead>\n    <tr style=\"text-align: right;\">\n      <th></th>\n      <th>DOB</th>\n      <th>first_name</th>\n      <th>last_name</th>\n      <th>email</th>\n      <th>gender</th>\n      <th>ip_address</th>\n    </tr>\n  </thead>\n  <tbody>\n    <tr>\n      <th>0</th>\n      <td>2003</td>\n      <td>Brendis</td>\n      <td>Downie</td>\n      <td>bdownie0@shareasale.com</td>\n      <td>Male</td>\n      <td>140.211.193.35</td>\n    </tr>\n    <tr>\n      <th>1</th>\n      <td>1988</td>\n      <td>Gonzales</td>\n      <td>Bratty</td>\n      <td>gbratty1@ow.ly</td>\n      <td>Male</td>\n      <td>179.77.133.38</td>\n    </tr>\n    <tr>\n      <th>2</th>\n      <td>2009</td>\n      <td>Modesta</td>\n      <td>Featherstonhaugh</td>\n      <td>mfeatherstonhaugh2@bravesites.com</td>\n      <td>Female</td>\n      <td>21.135.125.5</td>\n    </tr>\n    <tr>\n      <th>3</th>\n      <td>2001</td>\n      <td>Edvard</td>\n      <td>Lyne</td>\n      <td>elyne3@blinklist.com</td>\n      <td>Male</td>\n      <td>145.171.77.62</td>\n    </tr>\n    <tr>\n      <th>4</th>\n      <td>1985</td>\n      <td>Jessy</td>\n      <td>Gadsby</td>\n      <td>jgadsby4@ning.com</td>\n      <td>Female</td>\n      <td>155.84.28.5</td>\n    </tr>\n  </tbody>\n</table>\n</div>",
                        "text/plain": "    DOB first_name         last_name                              email  \\\n0  2003    Brendis            Downie            bdownie0@shareasale.com   \n1  1988   Gonzales            Bratty                     gbratty1@ow.ly   \n2  2009    Modesta  Featherstonhaugh  mfeatherstonhaugh2@bravesites.com   \n3  2001     Edvard              Lyne               elyne3@blinklist.com   \n4  1985      Jessy            Gadsby                  jgadsby4@ning.com   \n\n   gender      ip_address  \n0    Male  140.211.193.35  \n1    Male   179.77.133.38  \n2  Female    21.135.125.5  \n3    Male   145.171.77.62  \n4  Female     155.84.28.5  "
                    },
                    "execution_count": 3,
                    "metadata": {},
                    "output_type": "execute_result"
                }
            ],
            "source": "# The code was removed by Watson Studio for sharing."
        },
        {
            "cell_type": "code",
            "execution_count": null,
            "metadata": {},
            "outputs": [],
            "source": ""
        }
    ],
    "metadata": {
        "kernelspec": {
            "display_name": "Python 3.6",
            "language": "python",
            "name": "python3"
        },
        "language_info": {
            "codemirror_mode": {
                "name": "ipython",
                "version": 3
            },
            "file_extension": ".py",
            "mimetype": "text/x-python",
            "name": "python",
            "nbconvert_exporter": "python",
            "pygments_lexer": "ipython3",
            "version": "3.6.9"
        }
    },
    "nbformat": 4,
    "nbformat_minor": 1
}